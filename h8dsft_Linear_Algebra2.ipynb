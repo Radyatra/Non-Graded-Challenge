{
 "cells": [
  {
   "cell_type": "markdown",
   "metadata": {},
   "source": [
    "## Linear Algebra (Matrix) - NGC 05 - FTDS Offline"
   ]
  },
  {
   "cell_type": "code",
   "execution_count": 2,
   "metadata": {},
   "outputs": [],
   "source": [
    "import numpy as np\n",
    "from numpy import array, diag\n",
    "from numpy.linalg import inv, det, eig"
   ]
  },
  {
   "cell_type": "code",
   "execution_count": 3,
   "metadata": {},
   "outputs": [
    {
     "data": {
      "text/plain": [
       "array([[[23, 50],\n",
       "        [ 7, 12]],\n",
       "\n",
       "       [[57, 67],\n",
       "        [99, 43]],\n",
       "\n",
       "       [[75, 21],\n",
       "        [57, 12]],\n",
       "\n",
       "       [[87, 26],\n",
       "        [18, 84]]])"
      ]
     },
     "execution_count": 3,
     "metadata": {},
     "output_type": "execute_result"
    }
   ],
   "source": [
    "# No. 1\n",
    "T = array([[[23, 50], [7, 12]], [[57, 67], [99, 43]], [[75, 21], [57, 12]], [[87, 26], [18, 84]]])\n",
    "T"
   ]
  },
  {
   "cell_type": "code",
   "execution_count": 4,
   "metadata": {},
   "outputs": [
    {
     "data": {
      "text/plain": [
       "array([[ 391, 1100,  361],\n",
       "       [ 119,  264, 2071],\n",
       "       [ 969, 1474, 1862]])"
      ]
     },
     "execution_count": 4,
     "metadata": {},
     "output_type": "execute_result"
    }
   ],
   "source": [
    "# No. 2\n",
    "A = array([[23, 50, 19], [7 ,12, 109], [57, 67, 98]])\n",
    "B = array([17, 22, 19]) # Vektor engga usah dipusingin, memang bentuknya pasti begini walaupun terlihat beda di symbolic form.\n",
    "A * B"
   ]
  },
  {
   "cell_type": "code",
   "execution_count": 5,
   "metadata": {},
   "outputs": [
    {
     "data": {
      "text/plain": [
       "[[23, 50, 19], [7, 12, 109], [57, 67, 98]]"
      ]
     },
     "execution_count": 5,
     "metadata": {},
     "output_type": "execute_result"
    }
   ],
   "source": [
    "# No. 3\n",
    "A = ([[23, 50, 19], [7, 12, 109], [57, 67, 98]])\n",
    "A"
   ]
  },
  {
   "cell_type": "code",
   "execution_count": 6,
   "metadata": {},
   "outputs": [
    {
     "data": {
      "text/plain": [
       "array([[ 23,   7,  57],\n",
       "       [ 50,  12,  67],\n",
       "       [ 19, 109,  98]])"
      ]
     },
     "execution_count": 6,
     "metadata": {},
     "output_type": "execute_result"
    }
   ],
   "source": [
    "np.transpose(A)"
   ]
  },
  {
   "cell_type": "code",
   "execution_count": 7,
   "metadata": {},
   "outputs": [
    {
     "data": {
      "text/plain": [
       "131344.0000000002"
      ]
     },
     "execution_count": 7,
     "metadata": {},
     "output_type": "execute_result"
    }
   ],
   "source": [
    "det(A)"
   ]
  },
  {
   "cell_type": "code",
   "execution_count": 8,
   "metadata": {},
   "outputs": [
    {
     "data": {
      "text/plain": [
       "array([[-0.0466485 , -0.02761451,  0.03975819],\n",
       "       [ 0.04208034,  0.00891552, -0.01807467],\n",
       "       [-0.00163692,  0.0099662 , -0.00056341]])"
      ]
     },
     "execution_count": 8,
     "metadata": {},
     "output_type": "execute_result"
    }
   ],
   "source": [
    "inv(A)"
   ]
  }
 ],
 "metadata": {
  "kernelspec": {
   "display_name": "Python 3.9.12 ('base')",
   "language": "python",
   "name": "python3"
  },
  "language_info": {
   "codemirror_mode": {
    "name": "ipython",
    "version": 3
   },
   "file_extension": ".py",
   "mimetype": "text/x-python",
   "name": "python",
   "nbconvert_exporter": "python",
   "pygments_lexer": "ipython3",
   "version": "3.9.12"
  },
  "orig_nbformat": 4,
  "vscode": {
   "interpreter": {
    "hash": "fb26c2799632769ff949349bdf197b904ff929545fca6b113524e62029cfec5d"
   }
  }
 },
 "nbformat": 4,
 "nbformat_minor": 2
}
