{
 "cells": [
  {
   "cell_type": "markdown",
   "metadata": {},
   "source": [
    "## Temperature Converter - NGC 03 - FTDS Offline\n",
    "- Nama: Radyatra Sidharta\n",
    "- Batch: 001-HCK"
   ]
  },
  {
   "cell_type": "code",
   "execution_count": 2,
   "metadata": {},
   "outputs": [
    {
     "name": "stdout",
     "output_type": "stream",
     "text": [
      "Temperature: 80 degrees Fahrenheit\n"
     ]
    }
   ],
   "source": [
    "# Reference: https://www.w3resource.com/python-exercises/python-conditional-exercise-2.php#:~:text=Python%20Code%3A,%3D%20\"Fahrenheit\"%20elif%20i_convention.\n",
    "\n",
    "Temp = input(\"Input temperature and unit (e.g. 20C, 30F, 300K): \")\n",
    "Unit = input(\"Input desired unit to be converted to (e.g. C for Celcius): \")\n",
    "t_inp = int(Temp[:-1])\n",
    "in_t = Temp[-1]\n",
    "in_u = Unit[-1]\n",
    "\n",
    "if in_t.upper() == \"C\":\n",
    "    if in_u.upper() == \"F\":\n",
    "        result = int(round((9 * t_inp) / 5 + 32))\n",
    "        out_t = \"Fahrenheit\"\n",
    "\n",
    "    elif in_u.upper() == \"K\":\n",
    "        result = int(round(t_inp + 273.15))\n",
    "        out_t = \"Kelvin\"\n",
    "\n",
    "elif in_t.upper() == \"F\":\n",
    "    if in_u.upper() == \"C\":\n",
    "        result = int(round((t_inp - 32) * 5/9))\n",
    "        out_t = \"Celcius\"\n",
    "\n",
    "    elif in_u.upper() == \"K\":\n",
    "        result = int(round((t_inp - 32) * (5/9) + 273.15))\n",
    "        out_t = \"Kelvin\"\n",
    "\n",
    "elif in_t.upper() == \"K\":\n",
    "    if in_u.upper() == \"F\":\n",
    "        result = int(round((t_inp - 273.15) * (9/5) + 32))\n",
    "        out_t = \"Fahrenheit\"\n",
    "\n",
    "    elif in_u.upper() == \"C\":\n",
    "        result = int(round(t_inp - 273.15))\n",
    "        out_t = \"Celcius\"\n",
    "else:\n",
    "    print(\"N/A\")\n",
    "    quit()\n",
    "\n",
    "print(\"Temperature:\", result, \"degrees\", out_t)"
   ]
  }
 ],
 "metadata": {
  "kernelspec": {
   "display_name": "Python 3.9.12 ('base')",
   "language": "python",
   "name": "python3"
  },
  "language_info": {
   "codemirror_mode": {
    "name": "ipython",
    "version": 3
   },
   "file_extension": ".py",
   "mimetype": "text/x-python",
   "name": "python",
   "nbconvert_exporter": "python",
   "pygments_lexer": "ipython3",
   "version": "3.9.12"
  },
  "orig_nbformat": 4,
  "vscode": {
   "interpreter": {
    "hash": "fb26c2799632769ff949349bdf197b904ff929545fca6b113524e62029cfec5d"
   }
  }
 },
 "nbformat": 4,
 "nbformat_minor": 2
}
